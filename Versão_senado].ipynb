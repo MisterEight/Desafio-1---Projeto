{
 "cells": [
  {
   "cell_type": "code",
   "execution_count": 56,
   "id": "54e082fc-2153-46e8-846e-688883ba6b1e",
   "metadata": {},
   "outputs": [
    {
     "name": "stdout",
     "output_type": "stream",
     "text": [
      "{'@xmlns:xsi': 'http://www.w3.org/2001/XMLSchema-instance', '@xsi:noNamespaceSchemaLocation': 'http://legis.senado.leg.br/dadosabertos/dados/DetalheMateriav7.xsd', 'Metadados': {'Versao': '29/06/2024 19:37:32', 'VersaoServico': '7', 'DataVersaoServico': '2021-09-14', 'DescricaoDataSet': 'Detalhes da matéria. ATENÇÃO: para pesquisar requerimentos de comissão por sigla, número e ano, é necessário informar também a sigla da comissão como parâmetro. Ex.: req/1/2021?comissao=cae.'}, 'Materia': {'IdentificacaoMateria': {'CodigoMateria': '162495', 'SiglaCasaIdentificacaoMateria': 'SF', 'SiglaSubtipoMateria': 'PL', 'DescricaoSubtipoMateria': 'Projeto de Lei', 'NumeroMateria': '00709', 'AnoMateria': '2024', 'DescricaoObjetivoProcesso': 'Iniciadora', 'DescricaoIdentificacaoMateria': 'PL 709/2024', 'IndicadorTramitando': 'Sim', 'IdentificacaoProcesso': '8632866'}, 'DadosBasicosMateria': {'EmentaMateria': 'Concede isenção total da tarifa de energia elétrica aos consumidores atingidos por enchentes e alagamentos.', 'IndexacaoMateria': ' CRIAÇÃO ,  LEI FEDERAL ,  CONCESSÃO ,  ISENÇÃO ,  TARIFAS ,  ENERGIA ELETRICA ,  CONSUMIDOR ,  AREA ,  INUNDAÇÃO ,  REQUISITOS ,  REQUERIMENTO ,  CUSTEIO ,  Fundo Nacional para Calamidades Públicas, Proteção e Defesa Civil (Funcap) .', 'Autor': 'Senador Cleitinho (REPUBLICANOS/MG)', 'CasaIniciadoraNoLegislativo': 'SF', 'IndicadorComplementar': 'Não', 'DataApresentacao': '2024-03-12', 'NaturezaMateria': {'CodigoNatureza': '11', 'NomeNatureza': 'NORMA_GERAL', 'DescricaoNatureza': 'Norma Geral'}}, 'Classificacoes': {'Classificacao': [{'CodigoClasse': '33805242', 'DescricaoClasse': 'Energia', 'DescricaoClasseHierarquica': 'Infraestrutura / Minas e Energia / Energia'}, {'CodigoClasse': '33809453', 'DescricaoClasse': 'Calamidade Pública e Emergência Social', 'DescricaoClasseHierarquica': 'Política Social / Proteção Social / Calamidade Pública e Emergência Social'}]}, 'OrigemMateria': {'NomePoderOrigem': 'Legislativo', 'SiglaCasaOrigem': 'SF'}, 'MateriasAnexadas': {'MateriaPrincipal': {'IdentificacaoMateria': {'CodigoMateria': '141167', 'SiglaCasaIdentificacaoMateria': 'SF', 'SiglaSubtipoMateria': 'PL', 'NumeroMateria': '868', 'AnoMateria': '2020', 'IndicadorTramitando': 'Sim'}, 'DataAnexacao': '2024-03-18'}, 'MateriaAnexada': [{'IdentificacaoMateria': {'CodigoMateria': '141199', 'SiglaCasaIdentificacaoMateria': 'SF', 'SiglaSubtipoMateria': 'PL', 'NumeroMateria': '943', 'AnoMateria': '2020', 'IndicadorTramitando': 'Sim'}, 'DataAnexacao': '2024-03-18'}]}, 'OutrasInformacoes': {'Servico': [{'NomeServico': 'AtualizacaoMateria', 'DescricaoServico': 'Mostra as atualizações mais recentes da matéria.', 'UrlServico': 'http://legis.senado.leg.br/dadosabertos/materia/atualizacoes/162495?v=5'}, {'NomeServico': 'AutoriaMateria', 'DescricaoServico': 'Lista o(s) autor(es) da matéria.', 'UrlServico': 'http://legis.senado.leg.br/dadosabertos/materia/autoria/162495?v=1'}, {'NomeServico': 'EmendaMateria', 'DescricaoServico': 'Emendas da matéria', 'UrlServico': 'http://legis.senado.leg.br/dadosabertos/materia/emendas/162495?v=6'}, {'NomeServico': 'MovimentacaoMateria', 'DescricaoServico': 'Informes legislativos, movimentações, despachos, prazos, ordens do dia em que constou, etc. Nesta versão, as tramitações foram substituídas por Informes Legislativos, Movimentações (administrativas) e', 'UrlServico': 'http://legis.senado.leg.br/dadosabertos/materia/movimentacoes/162495?v=7'}, {'NomeServico': 'RelatoriaMateria', 'DescricaoServico': 'Relatoria atual e relatorias encerradas (histórico) da matéria', 'UrlServico': 'http://legis.senado.leg.br/dadosabertos/materia/relatorias/162495?v=5'}, {'NomeServico': 'SituacaoAtualMateria', 'DescricaoServico': 'Traz a situação e a localização atuais de uma ou mais matérias', 'UrlServico': 'http://legis.senado.leg.br/dadosabertos/materia/situacaoatual/162495?v=3'}, {'NomeServico': 'TextoMateria', 'DescricaoServico': 'Textos da matéria. \\nEvoluções da versão: \\n28/8/2019 - incluída a tag \"AutoriaTexto\", sob a tag \"Texto\".\\n1/10/2020 - retirada a tag \"NumeroEmenda\". Essa informação pode ser obtida de \"DescricaoTexto\". ', 'UrlServico': 'http://legis.senado.leg.br/dadosabertos/materia/textos/162495?v=5'}, {'NomeServico': 'VotacaoMateria', 'DescricaoServico': 'Votações da matéria. Atenção: o conteúdo da descrição do voto deixou de ser exibida neste serviço, mas foi disponibilizado o link para o serviço que traz a relação dos tipos de voto e respectivas desc', 'UrlServico': 'http://legis.senado.leg.br/dadosabertos/materia/votacoes/162495?v=6'}, {'NomeServico': 'VotacoesComissao', 'UrlServico': 'http://legis.senado.leg.br/dadosabertos/votacaoComissao/materia/PL/00709/2024?v=1'}]}}}\n"
     ]
    },
    {
     "ename": "KeyError",
     "evalue": "'Classificacoes'",
     "output_type": "error",
     "traceback": [
      "\u001b[1;31m---------------------------------------------------------------------------\u001b[0m",
      "\u001b[1;31mKeyError\u001b[0m                                  Traceback (most recent call last)",
      "Cell \u001b[1;32mIn[56], line 44\u001b[0m\n\u001b[0;32m     35\u001b[0m         resposta_projeto_senado \u001b[38;5;241m=\u001b[39m projeto_id_senado\u001b[38;5;241m.\u001b[39mjson()\n\u001b[0;32m     36\u001b[0m         \u001b[38;5;28mprint\u001b[39m(resposta_projeto_senado[\u001b[38;5;124m\"\u001b[39m\u001b[38;5;124mDetalheMateria\u001b[39m\u001b[38;5;124m\"\u001b[39m])\n\u001b[0;32m     37\u001b[0m         projeto_dict_senado \u001b[38;5;241m=\u001b[39m {\n\u001b[0;32m     38\u001b[0m             \u001b[38;5;124m\"\u001b[39m\u001b[38;5;124mID\u001b[39m\u001b[38;5;124m\"\u001b[39m: proposicao[\u001b[38;5;124m'\u001b[39m\u001b[38;5;124mCodigo\u001b[39m\u001b[38;5;124m'\u001b[39m],\n\u001b[0;32m     39\u001b[0m             \u001b[38;5;66;03m#\"Tipo\": resposta_projeto_senado['MateriasAnexadas'][\"MateriaPrincipal\"][\"IdentificacaoMateria\"][\"SiglaSubtipoMateria\"],\u001b[39;00m\n\u001b[0;32m     40\u001b[0m             \u001b[38;5;124m\"\u001b[39m\u001b[38;5;124mAno\u001b[39m\u001b[38;5;124m\"\u001b[39m: proposicao[\u001b[38;5;124m\"\u001b[39m\u001b[38;5;124mAno\u001b[39m\u001b[38;5;124m\"\u001b[39m],\n\u001b[0;32m     41\u001b[0m             \u001b[38;5;124m\"\u001b[39m\u001b[38;5;124mEmenta\u001b[39m\u001b[38;5;124m\"\u001b[39m: proposicao[\u001b[38;5;124m\"\u001b[39m\u001b[38;5;124mEmenta\u001b[39m\u001b[38;5;124m\"\u001b[39m],\n\u001b[0;32m     42\u001b[0m             \u001b[38;5;124m\"\u001b[39m\u001b[38;5;124mData Inicio\u001b[39m\u001b[38;5;124m\"\u001b[39m: proposicao[\u001b[38;5;124m'\u001b[39m\u001b[38;5;124mData\u001b[39m\u001b[38;5;124m'\u001b[39m],\n\u001b[0;32m     43\u001b[0m             \u001b[38;5;124m\"\u001b[39m\u001b[38;5;124mUltma Alteracao\u001b[39m\u001b[38;5;124m\"\u001b[39m: resposta_projeto_senado[\u001b[38;5;124m\"\u001b[39m\u001b[38;5;124mDetalheMateria\u001b[39m\u001b[38;5;124m\"\u001b[39m][\u001b[38;5;124m\"\u001b[39m\u001b[38;5;124mMetadados\u001b[39m\u001b[38;5;124m\"\u001b[39m][\u001b[38;5;124m\"\u001b[39m\u001b[38;5;124mVersao\u001b[39m\u001b[38;5;124m\"\u001b[39m],\n\u001b[1;32m---> 44\u001b[0m             \u001b[38;5;124m\"\u001b[39m\u001b[38;5;124mPalavras Chaves\u001b[39m\u001b[38;5;124m\"\u001b[39m: resposta_projeto_senado[\u001b[38;5;124m\"\u001b[39m\u001b[38;5;124mClassificacoes\u001b[39m\u001b[38;5;124m\"\u001b[39m][\u001b[38;5;124m\"\u001b[39m\u001b[38;5;124mClassificacao\u001b[39m\u001b[38;5;124m\"\u001b[39m][\u001b[38;5;241m0\u001b[39m],\n\u001b[0;32m     45\u001b[0m             \u001b[38;5;124m\"\u001b[39m\u001b[38;5;124mLink\u001b[39m\u001b[38;5;124m\"\u001b[39m: \u001b[38;5;124mf\u001b[39m\u001b[38;5;124m\"\u001b[39m\u001b[38;5;124mhttps://www25.senado.leg.br/web/atividade/materias/-/materia/\u001b[39m\u001b[38;5;132;01m{\u001b[39;00mproposicao[\u001b[38;5;124m'\u001b[39m\u001b[38;5;124mCodigo\u001b[39m\u001b[38;5;124m'\u001b[39m]\u001b[38;5;132;01m}\u001b[39;00m\u001b[38;5;124m\"\u001b[39m\n\u001b[0;32m     46\u001b[0m         }\n\u001b[0;32m     47\u001b[0m \u001b[38;5;28;01melse\u001b[39;00m:\n\u001b[0;32m     48\u001b[0m     \u001b[38;5;28mprint\u001b[39m(\u001b[38;5;124mf\u001b[39m\u001b[38;5;124m\"\u001b[39m\u001b[38;5;124mErro na requisição: \u001b[39m\u001b[38;5;132;01m{\u001b[39;00mresponse\u001b[38;5;241m.\u001b[39mstatus_code\u001b[38;5;132;01m}\u001b[39;00m\u001b[38;5;124m\"\u001b[39m)\n",
      "\u001b[1;31mKeyError\u001b[0m: 'Classificacoes'"
     ]
    }
   ],
   "source": [
    "import requests\n",
    "\n",
    "# URL base da API do Senado\n",
    "base_url = \"https://legis.senado.leg.br/dadosabertos\"\n",
    "\n",
    "# Endpoint para obter proposições (projetos)\n",
    "endpoint = \"/materia/pesquisa/lista\"\n",
    "\n",
    "# Parâmetros da requisição\n",
    "params = {\n",
    "    \"ano\": 2024,\n",
    "    \"palavraChave\": \"Energia\",\n",
    "    \"dataInicio\": \"2024-06-28\",\n",
    "    \"dataFim\": \"2024-06-29\",\n",
    "    \"ordem\": \"ASC\",  # Opcional, para ordenar os resultados\n",
    "    \"ordenarPor\": \"id\"  # Opcional, para especificar o campo de ordenação\n",
    "}\n",
    "\n",
    "# Cabeçalhos da requisição (opcional)\n",
    "headers = {\n",
    "    \"Accept\": \"application/json\"\n",
    "}\n",
    "\n",
    "# Fazendo a requisição GET\n",
    "response = requests.get(base_url + endpoint, params=params, headers=headers)\n",
    "\n",
    "# Verificando o status da resposta\n",
    "if response.status_code == 200:\n",
    "    # Convertendo a resposta para JSON\n",
    "    dados = response.json()\n",
    "    materias = dados['PesquisaBasicaMateria']['Materias']\n",
    "    for proposicao in materias['Materia']:\n",
    "        url_procura_id_senado = f\"https://legis.senado.leg.br/dadosabertos/materia/{proposicao['Codigo']}\"\n",
    "        projeto_id_senado = requests.get(url_procura_id_senado, headers=headers)\n",
    "        resposta_projeto_senado = projeto_id_senado.json()\n",
    "        print(resposta_projeto_senado[\"DetalheMateria\"])\n",
    "        projeto_dict_senado = {\n",
    "            \"ID\": proposicao['Codigo'],\n",
    "            \"Tipo\": resposta_projeto_senado['MateriasAnexadas'][\"MateriaPrincipal\"][\"IdentificacaoMateria\"][\"SiglaSubtipoMateria\"],\n",
    "            \"Ano\": proposicao[\"Ano\"],\n",
    "            \"Ementa\": proposicao[\"Ementa\"],\n",
    "            \"Data Inicio\": proposicao['Data'],\n",
    "            \"Ultma Alteracao\": resposta_projeto_senado[\"DetalheMateria\"][\"Metadados\"][\"Versao\"],\n",
    "            \"Palavras Chaves\": resposta_projeto_senado[\"Classificacoes\"][\"Classificacao\"][0],\n",
    "            \"Link\": f\"https://www25.senado.leg.br/web/atividade/materias/-/materia/{proposicao['Codigo']}\"\n",
    "        }\n",
    "else:\n",
    "    print(f\"Erro na requisição: {response.status_code}\")\n"
   ]
  }
 ],
 "metadata": {
  "kernelspec": {
   "display_name": "Python 3 (ipykernel)",
   "language": "python",
   "name": "python3"
  },
  "language_info": {
   "codemirror_mode": {
    "name": "ipython",
    "version": 3
   },
   "file_extension": ".py",
   "mimetype": "text/x-python",
   "name": "python",
   "nbconvert_exporter": "python",
   "pygments_lexer": "ipython3",
   "version": "3.12.3"
  }
 },
 "nbformat": 4,
 "nbformat_minor": 5
}
