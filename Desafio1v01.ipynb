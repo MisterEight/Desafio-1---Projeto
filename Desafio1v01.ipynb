{
 "cells": [
  {
   "cell_type": "code",
   "execution_count": 80,
   "id": "25c311b5-add6-4113-86e8-fd091264c587",
   "metadata": {},
   "outputs": [],
   "source": [
    "import pandas as pd\n",
    "import requests\n",
    "import json"
   ]
  },
  {
   "cell_type": "code",
   "execution_count": 50,
   "id": "8b96571f-739f-4887-9841-cba1454d6087",
   "metadata": {
    "scrolled": true
   },
   "outputs": [
    {
     "data": {
      "text/plain": [
       "'2024-06-28'"
      ]
     },
     "execution_count": 50,
     "metadata": {},
     "output_type": "execute_result"
    }
   ],
   "source": [
    "dia_ontem = pd.Timestamp.today() -pd.Timedelta(\"1 days\")\n",
    "dia_ontem = dia_ontem.strftime('%Y-%m-%d')\n",
    "hoje = pd.Timestamp.today().strftime('%Y-%m-%d')\n",
    "dia_ontem"
   ]
  },
  {
   "cell_type": "code",
   "execution_count": 107,
   "id": "26c6287d-29b3-4ccb-9454-00b2f2dddc50",
   "metadata": {},
   "outputs": [],
   "source": [
    "base_url = \"https://dadosabertos.camara.leg.br/api/v2\"\n",
    "\n",
    "endpoint = \"/proposicoes\"\n",
    "\n",
    "params = {\n",
    "    \"keywords\": \"Energia,Solar\",\n",
    "    \"dataInicio\": dia_ontem,\n",
    "    \"ano\": [2024],\n",
    "    \"dataFim\": hoje,\n",
    "    \"ordenarPor\": \"id\"\n",
    "}\n",
    "\n",
    "headers = {\n",
    "    \"Accept\": \"application/json\"\n",
    "}\n",
    "\n",
    "response = requests.get(base_url + endpoint, params=params, headers=headers)\n",
    "\n",
    "projetos_lista = []\n",
    "if response.status_code == 200:\n",
    "    dados = response.json()\n",
    "    proposicoes = dados['dados']\n",
    "    for proposicao in proposicoes:\n",
    "        url_procura_id = f\"https://dadosabertos.camara.leg.br/api/v2/proposicoes/{proposicao['id']}\"\n",
    "        projeto_id = requests.get(url_procura_id)\n",
    "        resposta_projeto = projeto_id.json()\n",
    "        projeto_dict = {\n",
    "            \"ID\": resposta_projeto['dados']['id'],\n",
    "            \"Tipo\": resposta_projeto['dados']['siglaTipo'],\n",
    "            \"Ano\": resposta_projeto['dados']['ano'],\n",
    "            \"Ementa\": resposta_projeto['dados']['ementa'],\n",
    "            \"Data Inicio\": resposta_projeto['dados']['dataApresentacao'],\n",
    "            \"Ultma Alteracao\": resposta_projeto['dados']['statusProposicao']['dataHora'],\n",
    "            \"Palavras Chaves\": resposta_projeto['dados']['keywords'],\n",
    "            \"Link\": f\"https://www.camara.leg.br/proposicoesWeb/fichadetramitacao?idProposicao={resposta_projeto['dados']['id']}\"\n",
    "        }\n",
    "        projetos_lista.append(projeto_dict)\n",
    "        \n",
    "else:\n",
    "    print(f\"Erro na requisição: {response.status_code}\")\n",
    "relatorio_df = pd.DataFrame(projetos_lista)\n",
    "relatorio_df.to_excel(\"Projetos-Novos.xlsx\", index=False)"
   ]
  }
 ],
 "metadata": {
  "kernelspec": {
   "display_name": "Python 3 (ipykernel)",
   "language": "python",
   "name": "python3"
  },
  "language_info": {
   "codemirror_mode": {
    "name": "ipython",
    "version": 3
   },
   "file_extension": ".py",
   "mimetype": "text/x-python",
   "name": "python",
   "nbconvert_exporter": "python",
   "pygments_lexer": "ipython3",
   "version": "3.12.3"
  }
 },
 "nbformat": 4,
 "nbformat_minor": 5
}
